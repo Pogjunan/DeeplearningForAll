{
 "cells": [
  {
   "cell_type": "markdown",
   "id": "4b5c622e-91d2-45d3-ac56-9e1ac4aa4f60",
   "metadata": {},
   "source": [
    "# 자연어 처리 연습"
   ]
  },
  {
   "cell_type": "markdown",
   "id": "8e7d6e0f-915c-4b59-921c-1fd5ea7ea7b9",
   "metadata": {
    "tags": []
   },
   "source": [
    "### [순서]\n",
    "1. 토큰화 <br>\n",
    "2. 원핫인코딩(보통 많이사용) <br>\n",
    "3. 단어임베딩 # 중요\n",
    "4. 각자 필요한 EDA 시작"
   ]
  },
  {
   "cell_type": "markdown",
   "id": "3958b202-2733-463f-9cda-9470afa9634c",
   "metadata": {
    "tags": []
   },
   "source": [
    "### 가벼운 영화 리뷰 긍정,부정적 예측"
   ]
  },
  {
   "cell_type": "markdown",
   "id": "bc8b0157-b783-4e70-8604-58fc3b7fc816",
   "metadata": {},
   "source": [
    "1. Import"
   ]
  },
  {
   "cell_type": "code",
   "execution_count": 4,
   "id": "aaad4289-61a8-4dd9-a016-a17c66162fd4",
   "metadata": {
    "tags": []
   },
   "outputs": [
    {
     "ename": "ModuleNotFoundError",
     "evalue": "No module named 'tnesorflow'",
     "output_type": "error",
     "traceback": [
      "\u001b[0;31m---------------------------------------------------------------------------\u001b[0m",
      "\u001b[0;31mModuleNotFoundError\u001b[0m                       Traceback (most recent call last)",
      "Cell \u001b[0;32mIn[4], line 7\u001b[0m\n\u001b[1;32m      5\u001b[0m \u001b[38;5;28;01mfrom\u001b[39;00m \u001b[38;5;21;01mtensorflow\u001b[39;00m\u001b[38;5;21;01m.\u001b[39;00m\u001b[38;5;21;01mkeras\u001b[39;00m\u001b[38;5;21;01m.\u001b[39;00m\u001b[38;5;21;01mpreprocessing\u001b[39;00m\u001b[38;5;21;01m.\u001b[39;00m\u001b[38;5;21;01msequence\u001b[39;00m \u001b[38;5;28;01mimport\u001b[39;00m pad_sequences\n\u001b[1;32m      6\u001b[0m \u001b[38;5;28;01mfrom\u001b[39;00m \u001b[38;5;21;01mtensorflow\u001b[39;00m\u001b[38;5;21;01m.\u001b[39;00m\u001b[38;5;21;01mkeras\u001b[39;00m\u001b[38;5;21;01m.\u001b[39;00m\u001b[38;5;21;01mmodels\u001b[39;00m \u001b[38;5;28;01mimport\u001b[39;00m Sequential\n\u001b[0;32m----> 7\u001b[0m \u001b[38;5;28;01mfrom\u001b[39;00m \u001b[38;5;21;01mtnesorflow\u001b[39;00m\u001b[38;5;21;01m.\u001b[39;00m\u001b[38;5;21;01mkeras\u001b[39;00m\u001b[38;5;21;01m.\u001b[39;00m\u001b[38;5;21;01mlayers\u001b[39;00m \u001b[38;5;28;01mimport\u001b[39;00m Dense,Flatten,Embedding\n",
      "\u001b[0;31mModuleNotFoundError\u001b[0m: No module named 'tnesorflow'"
     ]
    }
   ],
   "source": [
    "import numpy \n",
    "import tensorflow as tf\n",
    "from numpy import array\n",
    "from tensorflow.keras.preprocessing.text import Tokenizer\n",
    "from tensorflow.keras.preprocessing.sequence import pad_sequences\n",
    "from tensorflow.keras.models import Sequential\n",
    "from tensorflow.keras.layers import Dense,Flatten,Embedding"
   ]
  },
  {
   "cell_type": "code",
   "execution_count": null,
   "id": "5a27089b-54f4-4cc2-8a1a-47f0784933ee",
   "metadata": {},
   "outputs": [],
   "source": []
  }
 ],
 "metadata": {
  "kernelspec": {
   "display_name": "Python (hf)",
   "language": "python",
   "name": "hf"
  },
  "language_info": {
   "codemirror_mode": {
    "name": "ipython",
    "version": 3
   },
   "file_extension": ".py",
   "mimetype": "text/x-python",
   "name": "python",
   "nbconvert_exporter": "python",
   "pygments_lexer": "ipython3",
   "version": "3.10.13"
  }
 },
 "nbformat": 4,
 "nbformat_minor": 5
}
