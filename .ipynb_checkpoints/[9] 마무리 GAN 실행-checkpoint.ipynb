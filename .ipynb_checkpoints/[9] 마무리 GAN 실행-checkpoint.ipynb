{
 "cells": [
  {
   "cell_type": "markdown",
   "id": "3e89c6a9-11ca-4c0a-9a73-7aab158fa61d",
   "metadata": {},
   "source": [
    "# 마무리로 정리는 따로 진행하기 않겠습니다. GAN 실행으로 마무리 하겠습니다."
   ]
  },
  {
   "cell_type": "markdown",
   "id": "ae002af1-9538-4dac-ae68-4867c8ab3fd6",
   "metadata": {},
   "source": [
    "---"
   ]
  },
  {
   "cell_type": "markdown",
   "id": "47805364-4106-48d9-a147-64ba60fdf748",
   "metadata": {},
   "source": [
    "### **` 적대적 신경망 실행하기 `**"
   ]
  },
  {
   "cell_type": "markdown",
   "id": "5b346ac5-82a7-43df-90c2-b5bb1391254b",
   "metadata": {},
   "source": [
    "생성자 : **`G()`**\n",
    ">\n",
    "판별자 : **`D()`**\n",
    ">\n",
    ">\n",
    "<br>\n",
    "\n",
    "\n",
    "### `진행형식`\n",
    "---\n",
    "input(그림형태) \n",
    "<br>\n",
    "=>\n",
    "<br>\n",
    "생성자 : `D(G(input))`\n",
    "<br>\n",
    "=>\n",
    "<br>\n",
    "생성된 그림 : `G(input)`\n",
    "<br>\n",
    "=>\n",
    "<br>\n",
    "판별자 : `진짜? : D(G(input))=0` or `가짜? : D(x)=1`\n",
    "---"
   ]
  },
  {
   "cell_type": "markdown",
   "id": "a8a39e03-ff95-4e1f-915a-7328980eaa29",
   "metadata": {},
   "source": [
    "만들어야하는 것 :\n",
    "<br>\n",
    "`D(G(input)` 과 실제 `D(x)` 를 판별자가 더는 구별못하게 `정확도 = 0.5` 에 가까워지면 생성자의 역할이 종료"
   ]
  },
  {
   "cell_type": "markdown",
   "id": "583fba73-4021-4b60-9a70-a9a26156355f",
   "metadata": {
    "tags": []
   },
   "source": [
    "# `코드` : 그룹나누기\n",
    "`[1]`\n",
    "```python\n",
    "ginput= Input(shape=(100,))\n",
    "dis_output= discriminator(generator(ginput))\n",
    "gan = Model(ginput,dis_output)\n",
    "gan.compile(loss='binary_crossentropy', optimizer='adam')\n",
    "```"
   ]
  },
  {
   "cell_type": "markdown",
   "id": "da18bd22-911c-4639-aee2-80d982eacda6",
   "metadata": {
    "tags": []
   },
   "source": [
    "**`[2]`**\n",
    "```python\n",
    "def gan_train(epoch, batch_size, saving_interval):\n",
    "    (X_train, _), (_, _) = mnist.load_data()  # 들여쓰기 및 괄호 오류 수정\n",
    "    X_train = X_train.reshape(X_train.shape[0], 28, 28, 1).astype('float32')\n",
    "    X_train = (X_train - 127.5) / 127.5\n",
    "    true = np.ones((batch_size, 1))\n",
    "    fake = np.zeros((batch_size, 1))\n",
    "\n",
    "    for i in range(epoch):\n",
    "        idx = np.random.randint(0, X_train.shape[0], batch_size)\n",
    "        imgs = X_train[idx]\n",
    "        d_loss_real = discriminator.train_on_batch(imgs, true)\n",
    "\n",
    "        noise = np.random.normal(0, 1, (batch_size, 100))\n",
    "        gen_imgs = generator.predict(noise)\n",
    "        d_loss_fake = discriminator.train_on_batch(gen_imgs, fake)\n",
    "\n",
    "        d_loss = 0.5 * np.add(d_loss_real, d_loss_fake)  # d_loss 계산 수정\n",
    "        g_loss = gan.train_on_batch(noise, true)\n",
    "\n",
    "        print('epoch:%d' % i, 'd_loss:%.4f' % d_loss, 'g_loss:%.4f' % g_loss)\n",
    "\n",
    "        if i % saving_interval == 0:\n",
    "            noise = np.random.normal(0, 1, (25, 100))\n",
    "            gen_imgs = generator.predict(noise)\n",
    "            gen_imgs = 0.5 * gen_imgs + 0.5\n",
    "\n",
    "            fig, axs = plt.subplots(5, 5)\n",
    "            count = 0\n",
    "            for j in range(5):\n",
    "                for k in range(5):\n",
    "                    axs[j, k].imshow(gen_imgs[count, :, :, 0], cmap='gray')\n",
    "                    axs[j, k].axis('off')\n",
    "                    count += 1\n",
    "            fig.savefig(\"gan_images/gan_mnist_%d.png\" % i)  # 들여쓰기 및 변수명 수정\n",
    "\n",
    "gan_train(4001, 32, 200)  # 함수 호출 위치 수정\n",
    "```"
   ]
  },
  {
   "cell_type": "markdown",
   "id": "5b9a0304-3437-4a6f-901a-353241f0dfb6",
   "metadata": {},
   "source": [
    "# 해석은 1주 내로 올리겠습니다."
   ]
  },
  {
   "cell_type": "code",
   "execution_count": null,
   "id": "cf08405b-14fc-482e-84f2-4b44ffde1e91",
   "metadata": {},
   "outputs": [],
   "source": []
  }
 ],
 "metadata": {
  "kernelspec": {
   "display_name": "Python (hf)",
   "language": "python",
   "name": "hf"
  },
  "language_info": {
   "codemirror_mode": {
    "name": "ipython",
    "version": 3
   },
   "file_extension": ".py",
   "mimetype": "text/x-python",
   "name": "python",
   "nbconvert_exporter": "python",
   "pygments_lexer": "ipython3",
   "version": "3.10.13"
  }
 },
 "nbformat": 4,
 "nbformat_minor": 5
}
