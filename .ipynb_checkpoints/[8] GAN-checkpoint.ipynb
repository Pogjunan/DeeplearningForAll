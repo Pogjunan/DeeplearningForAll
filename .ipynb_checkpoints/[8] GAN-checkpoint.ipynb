{
 "cells": [
  {
   "cell_type": "markdown",
   "id": "874a9772-2ddc-48d9-b010-afaf8241af47",
   "metadata": {},
   "source": [
    "# `[8] GAN`"
   ]
  },
  {
   "cell_type": "markdown",
   "id": "93a11c08-8f47-46ce-a5fd-ef926aaad61a",
   "metadata": {
    "tags": []
   },
   "source": [
    "`-` CNN 과 RNN 후에 많은 연습할 알고리즘이 있지만 이 책에서는 CRNN 만 다루고 있고 이미 다뤄본 알고리즘이라 바로 GAN 만 다루고 끝내겠습니다. <br>\n",
    "`-` 무엇보다 가볍게 다루기 때문에 가볍게 보고 지나치겠습니다."
   ]
  },
  {
   "cell_type": "code",
   "execution_count": null,
   "id": "ff27def2-236c-4f64-b1e7-653792439a72",
   "metadata": {},
   "outputs": [],
   "source": []
  }
 ],
 "metadata": {
  "kernelspec": {
   "display_name": "Python (hf)",
   "language": "python",
   "name": "hf"
  },
  "language_info": {
   "codemirror_mode": {
    "name": "ipython",
    "version": 3
   },
   "file_extension": ".py",
   "mimetype": "text/x-python",
   "name": "python",
   "nbconvert_exporter": "python",
   "pygments_lexer": "ipython3",
   "version": "3.10.13"
  }
 },
 "nbformat": 4,
 "nbformat_minor": 5
}
